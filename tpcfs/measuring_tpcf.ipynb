{
 "cells": [
  {
   "cell_type": "code",
   "execution_count": 4,
   "metadata": {},
   "outputs": [],
   "source": [
    "from halotools.mock_observables import rp_pi_tpcf, tpcf, s_mu_tpcf\n",
    "import numpy as np\n",
    "import matplotlib.pyplot as plt\n",
    "import pickle"
   ]
  },
  {
   "cell_type": "code",
   "execution_count": 5,
   "metadata": {},
   "outputs": [],
   "source": [
    "def compute_real_tpcf(box, snapshot, r_bins, boxsize = 2000., num_threads = 1, m_min = 1.e12, m_max =1.e13):\n",
    "\n",
    "\n",
    "    if(box == 15):\n",
    "        filename = f'/raid/nbody/baorsd/run1{box:02d}/halo_catalog/R115_S{snapshot:03d}'\n",
    "    else:\n",
    "        filename = f'/raid/nbody/baorsd/run1{box:02d}/halo_catalog/S{snapshot:03d}_cen_rockstar'\n",
    "\n",
    "\n",
    "    pos = np.fromfile(filename + '_pos.bin', dtype = np.float32)\n",
    "\n",
    "    pos = np.reshape(pos, (-1, 3)) \n",
    "\n",
    "    m200c = np.fromfile(filename + '_mass.bin', dtype = np.float32)\n",
    "\n",
    "    threshold = (m200c > m_min) & (m200c < m_max)\n",
    "\n",
    "    pos = pos[threshold,:]\n",
    "    \n",
    "    real_tpcf = tpcf(pos, r_bins, period = boxsize, num_threads = num_threads)\n",
    "\n",
    "    r_bins_c = 0.5*(r_bins[1:] + r_bins[:-1])\n",
    "\n",
    "    return r_bins_c, real_tpcf\n",
    "\n"
   ]
  },
  {
   "cell_type": "code",
   "execution_count": 6,
   "metadata": {},
   "outputs": [],
   "source": [
    "r_bins = np.logspace(-0.4, np.log10(150.), 100)\n"
   ]
  },
  {
   "cell_type": "code",
   "execution_count": 7,
   "metadata": {},
   "outputs": [],
   "source": [
    "r_bins_c = 0.5*(r_bins[1:] + r_bins[:-1])"
   ]
  },
  {
   "cell_type": "code",
   "execution_count": 5,
   "metadata": {},
   "outputs": [
    {
     "name": "stdout",
     "output_type": "stream",
     "text": [
      "020\n"
     ]
    }
   ],
   "source": [
    "snapshot = 20\n",
    "print(f'{snapshot:03d}')"
   ]
  },
  {
   "cell_type": "code",
   "execution_count": 9,
   "metadata": {
    "scrolled": true
   },
   "outputs": [
    {
     "name": "stdout",
     "output_type": "stream",
     "text": [
      "Computing correlation function on box 1\n"
     ]
    },
    {
     "ename": "KeyboardInterrupt",
     "evalue": "",
     "output_type": "error",
     "traceback": [
      "\u001b[0;31m---------------------------------------------------------------------------\u001b[0m",
      "\u001b[0;31mKeyboardInterrupt\u001b[0m                         Traceback (most recent call last)",
      "\u001b[0;32m<ipython-input-9-1b47c464054e>\u001b[0m in \u001b[0;36m<module>\u001b[0;34m\u001b[0m\n\u001b[1;32m      4\u001b[0m \u001b[0;34m\u001b[0m\u001b[0m\n\u001b[1;32m      5\u001b[0m     \u001b[0mprint\u001b[0m\u001b[0;34m(\u001b[0m\u001b[0;34mf'Computing correlation function on box {box}'\u001b[0m\u001b[0;34m)\u001b[0m\u001b[0;34m\u001b[0m\u001b[0;34m\u001b[0m\u001b[0m\n\u001b[0;32m----> 6\u001b[0;31m     \u001b[0mr_bins_c\u001b[0m\u001b[0;34m,\u001b[0m \u001b[0mreal_tpcf\u001b[0m \u001b[0;34m=\u001b[0m \u001b[0mcompute_real_tpcf\u001b[0m\u001b[0;34m(\u001b[0m\u001b[0mbox\u001b[0m\u001b[0;34m,\u001b[0m \u001b[0;36m11\u001b[0m\u001b[0;34m,\u001b[0m \u001b[0mr_bins\u001b[0m\u001b[0;34m,\u001b[0m \u001b[0mnum_threads\u001b[0m \u001b[0;34m=\u001b[0m \u001b[0;36m16\u001b[0m\u001b[0;34m)\u001b[0m\u001b[0;34m\u001b[0m\u001b[0;34m\u001b[0m\u001b[0m\n\u001b[0m\u001b[1;32m      7\u001b[0m \u001b[0;34m\u001b[0m\u001b[0m\n\u001b[1;32m      8\u001b[0m     \u001b[0mtp\u001b[0m \u001b[0;34m=\u001b[0m \u001b[0;34m{\u001b[0m\u001b[0;34m'r'\u001b[0m\u001b[0;34m:\u001b[0m \u001b[0mr_bins_c\u001b[0m\u001b[0;34m,\u001b[0m \u001b[0;34m'tpcf'\u001b[0m\u001b[0;34m:\u001b[0m \u001b[0mreal_tpcf\u001b[0m\u001b[0;34m}\u001b[0m\u001b[0;34m\u001b[0m\u001b[0;34m\u001b[0m\u001b[0m\n",
      "\u001b[0;32m<ipython-input-5-9476c7e27a77>\u001b[0m in \u001b[0;36mcompute_real_tpcf\u001b[0;34m(box, snapshot, r_bins, boxsize, num_threads, m_min, m_max)\u001b[0m\n\u001b[1;32m     18\u001b[0m     \u001b[0mpos\u001b[0m \u001b[0;34m=\u001b[0m \u001b[0mpos\u001b[0m\u001b[0;34m[\u001b[0m\u001b[0mthreshold\u001b[0m\u001b[0;34m,\u001b[0m\u001b[0;34m:\u001b[0m\u001b[0;34m]\u001b[0m\u001b[0;34m\u001b[0m\u001b[0;34m\u001b[0m\u001b[0m\n\u001b[1;32m     19\u001b[0m \u001b[0;34m\u001b[0m\u001b[0m\n\u001b[0;32m---> 20\u001b[0;31m     \u001b[0mreal_tpcf\u001b[0m \u001b[0;34m=\u001b[0m \u001b[0mtpcf\u001b[0m\u001b[0;34m(\u001b[0m\u001b[0mpos\u001b[0m\u001b[0;34m,\u001b[0m \u001b[0mr_bins\u001b[0m\u001b[0;34m,\u001b[0m \u001b[0mperiod\u001b[0m \u001b[0;34m=\u001b[0m \u001b[0mboxsize\u001b[0m\u001b[0;34m,\u001b[0m \u001b[0mnum_threads\u001b[0m \u001b[0;34m=\u001b[0m \u001b[0mnum_threads\u001b[0m\u001b[0;34m)\u001b[0m\u001b[0;34m\u001b[0m\u001b[0;34m\u001b[0m\u001b[0m\n\u001b[0m\u001b[1;32m     21\u001b[0m \u001b[0;34m\u001b[0m\u001b[0m\n\u001b[1;32m     22\u001b[0m     \u001b[0mr_bins_c\u001b[0m \u001b[0;34m=\u001b[0m \u001b[0;36m0.5\u001b[0m\u001b[0;34m*\u001b[0m\u001b[0;34m(\u001b[0m\u001b[0mr_bins\u001b[0m\u001b[0;34m[\u001b[0m\u001b[0;36m1\u001b[0m\u001b[0;34m:\u001b[0m\u001b[0;34m]\u001b[0m \u001b[0;34m+\u001b[0m \u001b[0mr_bins\u001b[0m\u001b[0;34m[\u001b[0m\u001b[0;34m:\u001b[0m\u001b[0;34m-\u001b[0m\u001b[0;36m1\u001b[0m\u001b[0;34m]\u001b[0m\u001b[0;34m)\u001b[0m\u001b[0;34m\u001b[0m\u001b[0;34m\u001b[0m\u001b[0m\n",
      "\u001b[0;32m~/.conda/envs/carol/lib/python3.6/site-packages/halotools/mock_observables/two_point_clustering/tpcf.py\u001b[0m in \u001b[0;36mtpcf\u001b[0;34m(sample1, rbins, sample2, randoms, period, do_auto, do_cross, estimator, num_threads, approx_cell1_size, approx_cell2_size, approx_cellran_size, RR_precomputed, NR_precomputed, seed)\u001b[0m\n\u001b[1;32m    354\u001b[0m     D1D1, D1D2, D2D2 = _pair_counts(sample1, sample2, rbins, period,\n\u001b[1;32m    355\u001b[0m         \u001b[0mnum_threads\u001b[0m\u001b[0;34m,\u001b[0m \u001b[0mdo_auto\u001b[0m\u001b[0;34m,\u001b[0m \u001b[0mdo_cross\u001b[0m\u001b[0;34m,\u001b[0m \u001b[0m_sample1_is_sample2\u001b[0m\u001b[0;34m,\u001b[0m\u001b[0;34m\u001b[0m\u001b[0;34m\u001b[0m\u001b[0m\n\u001b[0;32m--> 356\u001b[0;31m         approx_cell1_size, approx_cell2_size)\n\u001b[0m\u001b[1;32m    357\u001b[0m \u001b[0;34m\u001b[0m\u001b[0m\n\u001b[1;32m    358\u001b[0m     \u001b[0;31m# count random pairs\u001b[0m\u001b[0;34m\u001b[0m\u001b[0;34m\u001b[0m\u001b[0;34m\u001b[0m\u001b[0m\n",
      "\u001b[0;32m~/.conda/envs/carol/lib/python3.6/site-packages/halotools/mock_observables/two_point_clustering/tpcf.py\u001b[0m in \u001b[0;36m_pair_counts\u001b[0;34m(sample1, sample2, rbins, period, num_threads, do_auto, do_cross, _sample1_is_sample2, approx_cell1_size, approx_cell2_size)\u001b[0m\n\u001b[1;32m    120\u001b[0m             \u001b[0mnum_threads\u001b[0m\u001b[0;34m=\u001b[0m\u001b[0mnum_threads\u001b[0m\u001b[0;34m,\u001b[0m\u001b[0;34m\u001b[0m\u001b[0;34m\u001b[0m\u001b[0m\n\u001b[1;32m    121\u001b[0m             \u001b[0mapprox_cell1_size\u001b[0m\u001b[0;34m=\u001b[0m\u001b[0mapprox_cell1_size\u001b[0m\u001b[0;34m,\u001b[0m\u001b[0;34m\u001b[0m\u001b[0;34m\u001b[0m\u001b[0m\n\u001b[0;32m--> 122\u001b[0;31m             approx_cell2_size=approx_cell1_size)\n\u001b[0m\u001b[1;32m    123\u001b[0m         \u001b[0mD1D1\u001b[0m \u001b[0;34m=\u001b[0m \u001b[0mnp\u001b[0m\u001b[0;34m.\u001b[0m\u001b[0mdiff\u001b[0m\u001b[0;34m(\u001b[0m\u001b[0mD1D1\u001b[0m\u001b[0;34m)\u001b[0m\u001b[0;34m\u001b[0m\u001b[0;34m\u001b[0m\u001b[0m\n\u001b[1;32m    124\u001b[0m     \u001b[0;32melse\u001b[0m\u001b[0;34m:\u001b[0m\u001b[0;34m\u001b[0m\u001b[0;34m\u001b[0m\u001b[0m\n",
      "\u001b[0;32m~/.conda/envs/carol/lib/python3.6/site-packages/halotools/mock_observables/pair_counters/npairs_3d.py\u001b[0m in \u001b[0;36mnpairs_3d\u001b[0;34m(sample1, sample2, rbins, period, verbose, num_threads, approx_cell1_size, approx_cell2_size)\u001b[0m\n\u001b[1;32m    146\u001b[0m     \u001b[0;32mif\u001b[0m \u001b[0mnum_threads\u001b[0m \u001b[0;34m>\u001b[0m \u001b[0;36m1\u001b[0m\u001b[0;34m:\u001b[0m\u001b[0;34m\u001b[0m\u001b[0;34m\u001b[0m\u001b[0m\n\u001b[1;32m    147\u001b[0m         \u001b[0mpool\u001b[0m \u001b[0;34m=\u001b[0m \u001b[0mmultiprocessing\u001b[0m\u001b[0;34m.\u001b[0m\u001b[0mPool\u001b[0m\u001b[0;34m(\u001b[0m\u001b[0mnum_threads\u001b[0m\u001b[0;34m)\u001b[0m\u001b[0;34m\u001b[0m\u001b[0;34m\u001b[0m\u001b[0m\n\u001b[0;32m--> 148\u001b[0;31m         \u001b[0mresult\u001b[0m \u001b[0;34m=\u001b[0m \u001b[0mpool\u001b[0m\u001b[0;34m.\u001b[0m\u001b[0mmap\u001b[0m\u001b[0;34m(\u001b[0m\u001b[0mengine\u001b[0m\u001b[0;34m,\u001b[0m \u001b[0mcell1_tuples\u001b[0m\u001b[0;34m)\u001b[0m\u001b[0;34m\u001b[0m\u001b[0;34m\u001b[0m\u001b[0m\n\u001b[0m\u001b[1;32m    149\u001b[0m         \u001b[0mcounts\u001b[0m \u001b[0;34m=\u001b[0m \u001b[0mnp\u001b[0m\u001b[0;34m.\u001b[0m\u001b[0msum\u001b[0m\u001b[0;34m(\u001b[0m\u001b[0mnp\u001b[0m\u001b[0;34m.\u001b[0m\u001b[0marray\u001b[0m\u001b[0;34m(\u001b[0m\u001b[0mresult\u001b[0m\u001b[0;34m)\u001b[0m\u001b[0;34m,\u001b[0m \u001b[0maxis\u001b[0m\u001b[0;34m=\u001b[0m\u001b[0;36m0\u001b[0m\u001b[0;34m)\u001b[0m\u001b[0;34m\u001b[0m\u001b[0;34m\u001b[0m\u001b[0m\n\u001b[1;32m    150\u001b[0m         \u001b[0mpool\u001b[0m\u001b[0;34m.\u001b[0m\u001b[0mclose\u001b[0m\u001b[0;34m(\u001b[0m\u001b[0;34m)\u001b[0m\u001b[0;34m\u001b[0m\u001b[0;34m\u001b[0m\u001b[0m\n",
      "\u001b[0;32m~/.conda/envs/carol/lib/python3.6/multiprocessing/pool.py\u001b[0m in \u001b[0;36mmap\u001b[0;34m(self, func, iterable, chunksize)\u001b[0m\n\u001b[1;32m    264\u001b[0m         \u001b[0;32min\u001b[0m \u001b[0ma\u001b[0m \u001b[0mlist\u001b[0m \u001b[0mthat\u001b[0m \u001b[0;32mis\u001b[0m \u001b[0mreturned\u001b[0m\u001b[0;34m.\u001b[0m\u001b[0;34m\u001b[0m\u001b[0;34m\u001b[0m\u001b[0m\n\u001b[1;32m    265\u001b[0m         '''\n\u001b[0;32m--> 266\u001b[0;31m         \u001b[0;32mreturn\u001b[0m \u001b[0mself\u001b[0m\u001b[0;34m.\u001b[0m\u001b[0m_map_async\u001b[0m\u001b[0;34m(\u001b[0m\u001b[0mfunc\u001b[0m\u001b[0;34m,\u001b[0m \u001b[0miterable\u001b[0m\u001b[0;34m,\u001b[0m \u001b[0mmapstar\u001b[0m\u001b[0;34m,\u001b[0m \u001b[0mchunksize\u001b[0m\u001b[0;34m)\u001b[0m\u001b[0;34m.\u001b[0m\u001b[0mget\u001b[0m\u001b[0;34m(\u001b[0m\u001b[0;34m)\u001b[0m\u001b[0;34m\u001b[0m\u001b[0;34m\u001b[0m\u001b[0m\n\u001b[0m\u001b[1;32m    267\u001b[0m \u001b[0;34m\u001b[0m\u001b[0m\n\u001b[1;32m    268\u001b[0m     \u001b[0;32mdef\u001b[0m \u001b[0mstarmap\u001b[0m\u001b[0;34m(\u001b[0m\u001b[0mself\u001b[0m\u001b[0;34m,\u001b[0m \u001b[0mfunc\u001b[0m\u001b[0;34m,\u001b[0m \u001b[0miterable\u001b[0m\u001b[0;34m,\u001b[0m \u001b[0mchunksize\u001b[0m\u001b[0;34m=\u001b[0m\u001b[0;32mNone\u001b[0m\u001b[0;34m)\u001b[0m\u001b[0;34m:\u001b[0m\u001b[0;34m\u001b[0m\u001b[0;34m\u001b[0m\u001b[0m\n",
      "\u001b[0;32m~/.conda/envs/carol/lib/python3.6/multiprocessing/pool.py\u001b[0m in \u001b[0;36mget\u001b[0;34m(self, timeout)\u001b[0m\n\u001b[1;32m    636\u001b[0m \u001b[0;34m\u001b[0m\u001b[0m\n\u001b[1;32m    637\u001b[0m     \u001b[0;32mdef\u001b[0m \u001b[0mget\u001b[0m\u001b[0;34m(\u001b[0m\u001b[0mself\u001b[0m\u001b[0;34m,\u001b[0m \u001b[0mtimeout\u001b[0m\u001b[0;34m=\u001b[0m\u001b[0;32mNone\u001b[0m\u001b[0;34m)\u001b[0m\u001b[0;34m:\u001b[0m\u001b[0;34m\u001b[0m\u001b[0;34m\u001b[0m\u001b[0m\n\u001b[0;32m--> 638\u001b[0;31m         \u001b[0mself\u001b[0m\u001b[0;34m.\u001b[0m\u001b[0mwait\u001b[0m\u001b[0;34m(\u001b[0m\u001b[0mtimeout\u001b[0m\u001b[0;34m)\u001b[0m\u001b[0;34m\u001b[0m\u001b[0;34m\u001b[0m\u001b[0m\n\u001b[0m\u001b[1;32m    639\u001b[0m         \u001b[0;32mif\u001b[0m \u001b[0;32mnot\u001b[0m \u001b[0mself\u001b[0m\u001b[0;34m.\u001b[0m\u001b[0mready\u001b[0m\u001b[0;34m(\u001b[0m\u001b[0;34m)\u001b[0m\u001b[0;34m:\u001b[0m\u001b[0;34m\u001b[0m\u001b[0;34m\u001b[0m\u001b[0m\n\u001b[1;32m    640\u001b[0m             \u001b[0;32mraise\u001b[0m \u001b[0mTimeoutError\u001b[0m\u001b[0;34m\u001b[0m\u001b[0;34m\u001b[0m\u001b[0m\n",
      "\u001b[0;32m~/.conda/envs/carol/lib/python3.6/multiprocessing/pool.py\u001b[0m in \u001b[0;36mwait\u001b[0;34m(self, timeout)\u001b[0m\n\u001b[1;32m    633\u001b[0m \u001b[0;34m\u001b[0m\u001b[0m\n\u001b[1;32m    634\u001b[0m     \u001b[0;32mdef\u001b[0m \u001b[0mwait\u001b[0m\u001b[0;34m(\u001b[0m\u001b[0mself\u001b[0m\u001b[0;34m,\u001b[0m \u001b[0mtimeout\u001b[0m\u001b[0;34m=\u001b[0m\u001b[0;32mNone\u001b[0m\u001b[0;34m)\u001b[0m\u001b[0;34m:\u001b[0m\u001b[0;34m\u001b[0m\u001b[0;34m\u001b[0m\u001b[0m\n\u001b[0;32m--> 635\u001b[0;31m         \u001b[0mself\u001b[0m\u001b[0;34m.\u001b[0m\u001b[0m_event\u001b[0m\u001b[0;34m.\u001b[0m\u001b[0mwait\u001b[0m\u001b[0;34m(\u001b[0m\u001b[0mtimeout\u001b[0m\u001b[0;34m)\u001b[0m\u001b[0;34m\u001b[0m\u001b[0;34m\u001b[0m\u001b[0m\n\u001b[0m\u001b[1;32m    636\u001b[0m \u001b[0;34m\u001b[0m\u001b[0m\n\u001b[1;32m    637\u001b[0m     \u001b[0;32mdef\u001b[0m \u001b[0mget\u001b[0m\u001b[0;34m(\u001b[0m\u001b[0mself\u001b[0m\u001b[0;34m,\u001b[0m \u001b[0mtimeout\u001b[0m\u001b[0;34m=\u001b[0m\u001b[0;32mNone\u001b[0m\u001b[0;34m)\u001b[0m\u001b[0;34m:\u001b[0m\u001b[0;34m\u001b[0m\u001b[0;34m\u001b[0m\u001b[0m\n",
      "\u001b[0;32m~/.conda/envs/carol/lib/python3.6/threading.py\u001b[0m in \u001b[0;36mwait\u001b[0;34m(self, timeout)\u001b[0m\n\u001b[1;32m    549\u001b[0m             \u001b[0msignaled\u001b[0m \u001b[0;34m=\u001b[0m \u001b[0mself\u001b[0m\u001b[0;34m.\u001b[0m\u001b[0m_flag\u001b[0m\u001b[0;34m\u001b[0m\u001b[0;34m\u001b[0m\u001b[0m\n\u001b[1;32m    550\u001b[0m             \u001b[0;32mif\u001b[0m \u001b[0;32mnot\u001b[0m \u001b[0msignaled\u001b[0m\u001b[0;34m:\u001b[0m\u001b[0;34m\u001b[0m\u001b[0;34m\u001b[0m\u001b[0m\n\u001b[0;32m--> 551\u001b[0;31m                 \u001b[0msignaled\u001b[0m \u001b[0;34m=\u001b[0m \u001b[0mself\u001b[0m\u001b[0;34m.\u001b[0m\u001b[0m_cond\u001b[0m\u001b[0;34m.\u001b[0m\u001b[0mwait\u001b[0m\u001b[0;34m(\u001b[0m\u001b[0mtimeout\u001b[0m\u001b[0;34m)\u001b[0m\u001b[0;34m\u001b[0m\u001b[0;34m\u001b[0m\u001b[0m\n\u001b[0m\u001b[1;32m    552\u001b[0m             \u001b[0;32mreturn\u001b[0m \u001b[0msignaled\u001b[0m\u001b[0;34m\u001b[0m\u001b[0;34m\u001b[0m\u001b[0m\n\u001b[1;32m    553\u001b[0m \u001b[0;34m\u001b[0m\u001b[0m\n",
      "\u001b[0;32m~/.conda/envs/carol/lib/python3.6/threading.py\u001b[0m in \u001b[0;36mwait\u001b[0;34m(self, timeout)\u001b[0m\n\u001b[1;32m    293\u001b[0m         \u001b[0;32mtry\u001b[0m\u001b[0;34m:\u001b[0m    \u001b[0;31m# restore state no matter what (e.g., KeyboardInterrupt)\u001b[0m\u001b[0;34m\u001b[0m\u001b[0;34m\u001b[0m\u001b[0m\n\u001b[1;32m    294\u001b[0m             \u001b[0;32mif\u001b[0m \u001b[0mtimeout\u001b[0m \u001b[0;32mis\u001b[0m \u001b[0;32mNone\u001b[0m\u001b[0;34m:\u001b[0m\u001b[0;34m\u001b[0m\u001b[0;34m\u001b[0m\u001b[0m\n\u001b[0;32m--> 295\u001b[0;31m                 \u001b[0mwaiter\u001b[0m\u001b[0;34m.\u001b[0m\u001b[0macquire\u001b[0m\u001b[0;34m(\u001b[0m\u001b[0;34m)\u001b[0m\u001b[0;34m\u001b[0m\u001b[0;34m\u001b[0m\u001b[0m\n\u001b[0m\u001b[1;32m    296\u001b[0m                 \u001b[0mgotit\u001b[0m \u001b[0;34m=\u001b[0m \u001b[0;32mTrue\u001b[0m\u001b[0;34m\u001b[0m\u001b[0;34m\u001b[0m\u001b[0m\n\u001b[1;32m    297\u001b[0m             \u001b[0;32melse\u001b[0m\u001b[0;34m:\u001b[0m\u001b[0;34m\u001b[0m\u001b[0;34m\u001b[0m\u001b[0m\n",
      "\u001b[0;31mKeyboardInterrupt\u001b[0m: "
     ]
    }
   ],
   "source": [
    "n_boxes = 15\n",
    "\n",
    "for box in range(1, n_boxes+1):\n",
    "\n",
    "    print(f'Computing correlation function on box {box}')\n",
    "    r_bins_c, real_tpcf = compute_real_tpcf(box, 11, r_bins, num_threads = 16)\n",
    "\n",
    "    tp = {'r': r_bins_c, 'tpcf': real_tpcf}\n",
    "    \n",
    "    with open(f'/raid/c-cuesta/tpcfs/real_tpcf_box{box}_lowM_s011.pickle', 'wb') as fp:\n",
    "        pickle.dump(tp, fp, protocol=pickle.HIGHEST_PROTOCOL)\n",
    "        \n",
    "    plt.loglog(tp['r'], tp['tpcf'], linestyle='', marker='o', markersize=2)\n",
    "    #plt.xlim(0,2)\n",
    "    plt.show()"
   ]
  },
  {
   "cell_type": "code",
   "execution_count": null,
   "metadata": {},
   "outputs": [],
   "source": [
    "def compute_redshift_tpcf(mode, box, r_bins, mu_bins = None, snapshot = 11,\n",
    "                          m_min = 1.e12, m_max = 1.e13, nthreads = 16, \n",
    "                          los_direction=2, boxsize=2000.):\n",
    "\n",
    "    lamda = 0.6844\n",
    "    matter = 1. - lamda\n",
    "\n",
    "    if(box == 15):\n",
    "        filename = f'/raid/nbody/baorsd/run1{box:02d}/halo_catalog/R115_S{snapshot:03d}'\n",
    "    else:\n",
    "        filename = f'/raid/nbody/baorsd/run1{box:02d}/halo_catalog/S{snapshot:03d}_cen_rockstar'\n",
    "    pos = np.fromfile(filename + '_pos.bin', dtype = np.float32)\n",
    "    pos = np.reshape(pos, (-1, 3)) \n",
    "\n",
    "    vel = np.fromfile(filename + '_vel.bin', dtype = np.float32)\n",
    "    vel = np.reshape(vel, (-1, 3)) \n",
    "\n",
    "    m200c = np.fromfile(filename + '_mass.bin', dtype = np.float32)\n",
    "\n",
    "    threshold = (m200c > m_min) & (m200c < m_max)\n",
    "\n",
    "    pos = pos[threshold,:]\n",
    "    vel = vel[threshold,:]\n",
    "\n",
    "    s_pos = pos.copy()\n",
    "    \n",
    "    if snapshot == 20:\n",
    "        s_pos[:, los_direction] += vel[:, los_direction]/100. # to Mpc/h\n",
    "    \n",
    "    elif snapshot == 11:\n",
    "        z = 0.484\n",
    "        s_pos[:, los_direction] += vel[:, los_direction]/100. * np.sqrt((1 + z)/((1+z)**3*matter + lamda)) # to Mpc/h\n",
    "        \n",
    "    else:\n",
    "        print('What is the redshift of that snapshot??')\n",
    "        return None\n",
    "\n",
    "    s_pos[:, los_direction][s_pos[:, los_direction]  > boxsize] -= boxsize\n",
    "\n",
    "    s_pos[:, los_direction][s_pos[:, los_direction]  < 0.] += boxsize\n",
    "\n",
    "    # rp_pi_tpcf always los = z\n",
    "    if(los_direction != 2): \n",
    "        s_pos_old = s_pos.copy()\n",
    "        s_pos[:,2] = s_pos_old[:,los_direction]\n",
    "        s_pos[:,los_direction] = s_pos_old[:,2]\n",
    "    \n",
    "    r_bins_c = 0.5*(r_bins[1:] + r_bins[:-1])\n",
    "\n",
    "\n",
    "    if mode == 'pi_sigma':\n",
    "        tpcf = rp_pi_tpcf(s_pos, r_bins, r_bins, period=boxsize,\n",
    "                estimator=u'Landy-Szalay', num_threads=nthreads)\n",
    "        \n",
    "        return r_bins_c, tpcf\n",
    "    \n",
    "    elif mode == 's_mu':\n",
    "        tpcf = s_mu_tpcf(s_pos, r_bins, mu_bins, period=boxsize,\n",
    "                estimator=u'Landy-Szalay', num_threads=nthreads)\n",
    "        \n",
    "        mu_bins_c = 0.5 * (mu_bins[1:] + mu_bins[:-1])\n",
    "        \n",
    "        return r_bins_c, mu_bins_c, tpcf\n",
    "    \n",
    "    else:\n",
    "        print(\"Mode not valid!\")\n",
    "        return None\n"
   ]
  },
  {
   "cell_type": "code",
   "execution_count": null,
   "metadata": {},
   "outputs": [],
   "source": [
    "r_bins = np.arange(0., 50., 0.5)\n",
    "r_bins[0] = 0.0001\n",
    "n_boxes = 15\n",
    "n_mu_bins = 120\n",
    "\n",
    "for box in range(1, n_boxes+1):\n",
    "    \n",
    "    mu_bins = np.linspace(0.,1.,n_mu_bins)\n",
    "\n",
    "\n",
    "    print(f'Computing redshift space correlation function on box {box}')\n",
    "    r_bins_c, tpcf_pi_sigma = compute_redshift_tpcf('pi_sigma',\n",
    "                                                    box, r_bins)\n",
    "    r_bins_c, mu_bins_c, tpcf_s_mu = compute_redshift_tpcf('s_mu', box,\n",
    "                                                r_bins, mu_bins)\n",
    "\n",
    "    tp = {'r': r_bins_c, 'mu_bins': mu_bins_c, 'pi_sigma': tpcf_pi_sigma, 's_mu': tpcf_s_mu}\n",
    "    \n",
    "    with open(f'/raid/c-cuesta/tpcfs/redshift_tpcf_box{box}_lowM_s011.pickle',\n",
    "              'wb') as fp:\n",
    "        \n",
    "        pickle.dump(tp, fp, protocol=pickle.HIGHEST_PROTOCOL)"
   ]
  },
  {
   "cell_type": "code",
   "execution_count": null,
   "metadata": {},
   "outputs": [],
   "source": []
  }
 ],
 "metadata": {
  "kernelspec": {
   "display_name": "Python 3",
   "language": "python",
   "name": "python3"
  },
  "language_info": {
   "codemirror_mode": {
    "name": "ipython",
    "version": 3
   },
   "file_extension": ".py",
   "mimetype": "text/x-python",
   "name": "python",
   "nbconvert_exporter": "python",
   "pygments_lexer": "ipython3",
   "version": "3.6.8"
  }
 },
 "nbformat": 4,
 "nbformat_minor": 2
}
