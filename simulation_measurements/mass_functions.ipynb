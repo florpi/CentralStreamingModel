{
 "cells": [
  {
   "cell_type": "code",
   "execution_count": 1,
   "metadata": {},
   "outputs": [],
   "source": [
    "import numpy as np\n",
    "import matplotlib.pyplot as plt\n",
    "import seaborn as sns\n",
    "sns.set_context('talk')"
   ]
  },
  {
   "cell_type": "code",
   "execution_count": 2,
   "metadata": {},
   "outputs": [],
   "source": [
    "# Read masses\n",
    "\n",
    "box = 1\n",
    "snapshot = 11\n",
    "\n",
    "data_dir = f'/raid/nbody/baorsd/run1{box:02d}/halo_catalog/'\n",
    "\n",
    "m200c = np.fromfile(data_dir + f'/S{snapshot:03d}_cen_rockstar_mass.bin',\n",
    "                    dtype=np.float32)"
   ]
  },
  {
   "cell_type": "code",
   "execution_count": 58,
   "metadata": {},
   "outputs": [
    {
     "data": {
      "text/plain": [
       "56070229"
      ]
     },
     "execution_count": 58,
     "metadata": {},
     "output_type": "execute_result"
    }
   ],
   "source": [
    "len(m200c)"
   ]
  },
  {
   "cell_type": "code",
   "execution_count": 3,
   "metadata": {},
   "outputs": [
    {
     "name": "stdout",
     "output_type": "stream",
     "text": [
      "There are 56070229 halos\n"
     ]
    }
   ],
   "source": [
    "print(f'There are {len(m200c)} halos')"
   ]
  },
  {
   "cell_type": "code",
   "execution_count": 4,
   "metadata": {},
   "outputs": [],
   "source": [
    "gals_filename = f'/raid/kobayashi/mock_2Gpc/Mcorr/R1{box:02d}_S{snapshot:03d}_rockstar_gal_2Gpc_Mcorr_nfwcm_wFoG'\n"
   ]
  },
  {
   "cell_type": "code",
   "execution_count": 18,
   "metadata": {},
   "outputs": [],
   "source": [
    "\n",
    "m200c_parent_halo = np.fromfile(gals_filename + '_mass.bin',\n",
    "                    dtype=np.float32)\n",
    "\n",
    "gals_id = np.fromfile(gals_filename + '_CS.bin',\n",
    "                     dtype = np.int32)"
   ]
  },
  {
   "cell_type": "code",
   "execution_count": 6,
   "metadata": {},
   "outputs": [
    {
     "data": {
      "text/plain": [
       "<matplotlib.legend.Legend at 0x7efdc335eda0>"
      ]
     },
     "execution_count": 6,
     "metadata": {},
     "output_type": "execute_result"
    },
    {
     "data": {
      "image/png": "[encoded data removed]",
      "text/plain": [
       "<Figure size 432x288 with 1 Axes>"
      ]
     },
     "metadata": {
      "needs_background": "light"
     },
     "output_type": "display_data"
    }
   ],
   "source": [
    "\n",
    "nbins= 15\n",
    "bins = np.logspace(np.log10(np.min(m200c)),\n",
    "            np.log10(np.max(m200c)), nbins+1)\n",
    "\n",
    "mass_func, edges = np.histogram(m200c, bins=bins)\n",
    "plt.loglog((edges[1:]+edges[:-1])/2.,\n",
    "           mass_func,color='black', marker='o',markersize=3,\n",
    "           label='halos')\n",
    "\n",
    "mass_func, edges = np.histogram(m200c_parent_halo, bins=bins)\n",
    "\n",
    "plt.loglog((edges[1:]+edges[:-1])/2.,\n",
    "           mass_func,color='indianred', marker='o',markersize=3,\n",
    "           label='parent halos')\n",
    "plt.ylabel('Number of halos')\n",
    "plt.xlabel('Halo mass')\n",
    "plt.legend()"
   ]
  },
  {
   "cell_type": "code",
   "execution_count": 7,
   "metadata": {},
   "outputs": [
    {
     "name": "stdout",
     "output_type": "stream",
     "text": [
      "5.76E+11\n"
     ]
    }
   ],
   "source": [
    "print(f'{np.min(m200c_parent_halo):.2E}')"
   ]
  },
  {
   "cell_type": "code",
   "execution_count": 42,
   "metadata": {},
   "outputs": [],
   "source": [
    "logM_min_parent = 13.9\n",
    "logM_max_parent = 14.3\n",
    "\n",
    "threshold_galaxies = (np.log10(m200c_parent_halo) > logM_min_parent) & \\\n",
    "                (np.log10(m200c_parent_halo) > logM_min_parent)\n",
    "\n",
    "threshold_centrals = (np.log10(m200c) > logM_min_parent) & \\\n",
    "                (np.log10(m200c) > logM_min_parent)\n"
   ]
  },
  {
   "cell_type": "code",
   "execution_count": 44,
   "metadata": {},
   "outputs": [
    {
     "name": "stdout",
     "output_type": "stream",
     "text": [
      "Central galaxies\n",
      "111090\n",
      "Satellite galaxies\n",
      "35497\n"
     ]
    }
   ],
   "source": [
    "n_centrals = m200c_parent_halo[(threshold_galaxies) & (gals_id == 1)].shape[0]\n",
    "print('Central galaxies')\n",
    "print(n_centrals)\n",
    "\n",
    "n_sats = m200c_parent_halo[(threshold_galaxies) & (gals_id == 0)].shape[0] \n",
    "print('Satellite galaxies')\n",
    "print(n_sats)"
   ]
  },
  {
   "cell_type": "code",
   "execution_count": 51,
   "metadata": {},
   "outputs": [],
   "source": [
    "n_gals = n_centrals + n_sats"
   ]
  },
  {
   "cell_type": "code",
   "execution_count": 55,
   "metadata": {},
   "outputs": [
    {
     "name": "stdout",
     "output_type": "stream",
     "text": [
      "0.5743267174023121\n",
      "0.1835167475707073\n",
      "0.05863978745627327\n",
      "1.0\n"
     ]
    }
   ],
   "source": [
    "w_cc = n_centrals**2 / n_gals**2\n",
    "print(w_cc)\n",
    "w_cs = n_centrals * n_sats / n_gals**2\n",
    "print(w_cs)\n",
    "w_ss = n_sats**2/ n_gals**2\n",
    "print(w_ss)\n",
    "\n",
    "print(w_cc + 2*w_cs + w_ss)"
   ]
  },
  {
   "cell_type": "code",
   "execution_count": 39,
   "metadata": {},
   "outputs": [
    {
     "name": "stdout",
     "output_type": "stream",
     "text": [
      "Central galaxies\n",
      "344200\n",
      "Satellite galaxies\n",
      "37183\n"
     ]
    }
   ],
   "source": [
    "print('Central galaxies')\n",
    "print(m200c_parent_halo[(threshold_galaxies) & (gals_id == 1)].shape[0])\n",
    "\n",
    "print('Satellite galaxies')\n",
    "print(m200c_parent_halo[(threshold_galaxies) & (gals_id == 0)].shape[0])"
   ]
  },
  {
   "cell_type": "code",
   "execution_count": 40,
   "metadata": {},
   "outputs": [
    {
     "name": "stdout",
     "output_type": "stream",
     "text": [
      "Central halos\n",
      "975839\n"
     ]
    }
   ],
   "source": [
    "print('Central halos')\n",
    "\n",
    "print(m200c[threshold_centrals].shape[0])\n"
   ]
  },
  {
   "cell_type": "code",
   "execution_count": 41,
   "metadata": {},
   "outputs": [],
   "source": [
    "def vir_dispersion(M, Rvir):\n",
    "    return np.sqrt(G * M / 2. /Rvir)"
   ]
  },
  {
   "cell_type": "code",
   "execution_count": null,
   "metadata": {},
   "outputs": [],
   "source": []
  }
 ],
 "metadata": {
  "kernelspec": {
   "display_name": "Python 3",
   "language": "python",
   "name": "python3"
  },
  "language_info": {
   "codemirror_mode": {
    "name": "ipython",
    "version": 3
   },
   "file_extension": ".py",
   "mimetype": "text/x-python",
   "name": "python",
   "nbconvert_exporter": "python",
   "pygments_lexer": "ipython3",
   "version": "3.6.8"
  }
 },
 "nbformat": 4,
 "nbformat_minor": 2
}
